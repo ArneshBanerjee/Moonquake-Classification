{
  "nbformat": 4,
  "nbformat_minor": 0,
  "metadata": {
    "colab": {
      "provenance": []
    },
    "kernelspec": {
      "name": "ir",
      "display_name": "R"
    },
    "language_info": {
      "name": "R"
    }
  },
  "cells": [
    {
      "cell_type": "code",
      "execution_count": 1,
      "metadata": {
        "id": "pNBSbXI_9EaQ"
      },
      "outputs": [],
      "source": [
        "system(\"sudo apt install python3-venv python3-pip python3-dev\")"
      ]
    },
    {
      "cell_type": "code",
      "source": [
        "# Install and load required packages\n",
        "install.packages(c(\"keras\", \"tensorflow\", \"ggplot2\", \"caret\"))\n",
        "library(keras)\n",
        "library(tensorflow)\n",
        "library(ggplot2)\n",
        "library(caret)\n",
        "library(readxl)\n",
        "# Install TensorFlow (run once)\n",
        "install_tensorflow()"
      ],
      "metadata": {
        "colab": {
          "base_uri": "https://localhost:8080/"
        },
        "id": "GSAqMWAT9Juv",
        "outputId": "a0431969-d61c-4540-d3a9-50c7cb5e2367"
      },
      "execution_count": 2,
      "outputs": [
        {
          "output_type": "stream",
          "name": "stderr",
          "text": [
            "Installing packages into ‘/usr/local/lib/R/site-library’\n",
            "(as ‘lib’ is unspecified)\n",
            "\n",
            "also installing the dependencies ‘listenv’, ‘parallelly’, ‘future’, ‘globals’, ‘shape’, ‘future.apply’, ‘numDeriv’, ‘progressr’, ‘SQUAREM’, ‘diagram’, ‘lava’, ‘prodlim’, ‘RcppTOML’, ‘here’, ‘png’, ‘proxy’, ‘iterators’, ‘clock’, ‘gower’, ‘hardhat’, ‘ipred’, ‘sparsevctrs’, ‘timeDate’, ‘reticulate’, ‘tfruns’, ‘zeallot’, ‘config’, ‘tfautograph’, ‘e1071’, ‘foreach’, ‘ModelMetrics’, ‘plyr’, ‘pROC’, ‘recipes’, ‘reshape2’\n",
            "\n",
            "\n",
            "Loading required package: lattice\n",
            "\n",
            "\n",
            "Attaching package: ‘caret’\n",
            "\n",
            "\n",
            "The following object is masked from ‘package:tensorflow’:\n",
            "\n",
            "    train\n",
            "\n",
            "\n"
          ]
        },
        {
          "output_type": "stream",
          "name": "stdout",
          "text": [
            "Using Python: /usr/bin/python3.10\n",
            "Creating virtual environment 'r-tensorflow' ... \n"
          ]
        },
        {
          "output_type": "stream",
          "name": "stderr",
          "text": [
            "+ /usr/bin/python3.10 -m venv /root/.virtualenvs/r-tensorflow\n",
            "\n"
          ]
        },
        {
          "output_type": "stream",
          "name": "stdout",
          "text": [
            "Done!\n",
            "Installing packages: pip, wheel, setuptools\n"
          ]
        },
        {
          "output_type": "stream",
          "name": "stderr",
          "text": [
            "+ /root/.virtualenvs/r-tensorflow/bin/python -m pip install --upgrade pip wheel setuptools\n",
            "\n"
          ]
        },
        {
          "output_type": "stream",
          "name": "stdout",
          "text": [
            "Virtual environment 'r-tensorflow' successfully created.\n",
            "Using virtual environment 'r-tensorflow' ...\n"
          ]
        },
        {
          "output_type": "stream",
          "name": "stderr",
          "text": [
            "+ /root/.virtualenvs/r-tensorflow/bin/python -m pip install --upgrade --no-user 'tensorflow==2.16.*'\n",
            "\n"
          ]
        },
        {
          "output_type": "stream",
          "name": "stdout",
          "text": [
            "\n",
            "Installation complete.\n",
            "\n"
          ]
        }
      ]
    },
    {
      "cell_type": "code",
      "source": [
        "# Load your data\n",
        "df <- read_excel('final.xlsx')\n",
        "df <- df[2:17]  # Select relevant columns"
      ],
      "metadata": {
        "id": "WA53UFvH9ibm"
      },
      "execution_count": 3,
      "outputs": []
    },
    {
      "cell_type": "code",
      "source": [
        "\n",
        "# Convert target to factor and numeric\n",
        "df$mq_type <- as.factor(df$mq_type)\n",
        "y <- as.numeric(df$mq_type) - 1  # Convert to 0,1,2 for deep_mq, impact_mq, shallow_mq"
      ],
      "metadata": {
        "id": "RcsHW8C4_3Q2"
      },
      "execution_count": 4,
      "outputs": []
    },
    {
      "cell_type": "code",
      "source": [
        "# Remove constant columns (like Arrival Time)\n",
        "constant_cols <- sapply(df, function(x) length(unique(x)) == 1)\n",
        "df <- df[, !constant_cols]"
      ],
      "metadata": {
        "id": "Phud6fkLBMTO"
      },
      "execution_count": 5,
      "outputs": []
    },
    {
      "cell_type": "code",
      "source": [
        "# Split data into training and test sets\n",
        "set.seed(123)\n",
        "train_index <- createDataPartition(y, p = 0.8, list = FALSE)\n",
        "train_data <- df[train_index, ]\n",
        "test_data <- df[-train_index, ]"
      ],
      "metadata": {
        "id": "3WOQupXhBPIc"
      },
      "execution_count": 6,
      "outputs": []
    },
    {
      "cell_type": "code",
      "source": [
        "# Scale numeric features (excluding the target variable)\n",
        "preprocess_params <- preProcess(train_data[, -which(names(train_data) == \"mq_type\")],\n",
        "                              method = c(\"center\", \"scale\"))\n",
        "train_scaled <- predict(preprocess_params, train_data[, -which(names(train_data) == \"mq_type\")])\n",
        "test_scaled <- predict(preprocess_params, test_data[, -which(names(test_data) == \"mq_type\")])\n"
      ],
      "metadata": {
        "id": "wGt5Kpq_BTF_"
      },
      "execution_count": 7,
      "outputs": []
    },
    {
      "cell_type": "code",
      "source": [
        "# Convert to matrices for keras\n",
        "x_train <- as.matrix(train_scaled)\n",
        "x_test <- as.matrix(test_scaled)\n"
      ],
      "metadata": {
        "id": "7PnhLm_pBVte"
      },
      "execution_count": 8,
      "outputs": []
    },
    {
      "cell_type": "code",
      "source": [
        "library(caret)\n",
        "dummy <- dummyVars(\" ~ .\", data = data.frame(mq_type = train_data$mq_type))\n",
        "y_train <- predict(dummy, newdata = data.frame(mq_type = train_data$mq_type))\n",
        "y_test <- predict(dummy, newdata = data.frame(mq_type = test_data$mq_type))\n"
      ],
      "metadata": {
        "id": "TBU05LckBZVm"
      },
      "execution_count": 9,
      "outputs": []
    },
    {
      "cell_type": "code",
      "source": [
        "colnames(df)"
      ],
      "metadata": {
        "colab": {
          "base_uri": "https://localhost:8080/",
          "height": 69
        },
        "id": "JzCHYCGiEYy5",
        "outputId": "737c0231-31ff-4e61-a7bf-0b28044c4c15"
      },
      "execution_count": 10,
      "outputs": [
        {
          "output_type": "display_data",
          "data": {
            "text/html": [
              "<style>\n",
              ".list-inline {list-style: none; margin:0; padding: 0}\n",
              ".list-inline>li {display: inline-block}\n",
              ".list-inline>li:not(:last-child)::after {content: \"\\00b7\"; padding: 0 .5ex}\n",
              "</style>\n",
              "<ol class=list-inline><li>'Mean Velocity'</li><li>'Standard Deviation'</li><li>'Max Velocity'</li><li>'Min Velocity'</li><li>'Range Velocity'</li><li>'Median Velocity'</li><li>'RMS Velocity'</li><li>'Energy'</li><li>'Impulse Factor'</li><li>'Velocity Derivative Mean'</li><li>'Velocity Derivative Std'</li><li>'Mean Velocity Around Arrival'</li><li>'Max Velocity Around Arrival'</li><li>'Max STA/LTA'</li><li>'mq_type'</li></ol>\n"
            ],
            "text/markdown": "1. 'Mean Velocity'\n2. 'Standard Deviation'\n3. 'Max Velocity'\n4. 'Min Velocity'\n5. 'Range Velocity'\n6. 'Median Velocity'\n7. 'RMS Velocity'\n8. 'Energy'\n9. 'Impulse Factor'\n10. 'Velocity Derivative Mean'\n11. 'Velocity Derivative Std'\n12. 'Mean Velocity Around Arrival'\n13. 'Max Velocity Around Arrival'\n14. 'Max STA/LTA'\n15. 'mq_type'\n\n\n",
            "text/latex": "\\begin{enumerate*}\n\\item 'Mean Velocity'\n\\item 'Standard Deviation'\n\\item 'Max Velocity'\n\\item 'Min Velocity'\n\\item 'Range Velocity'\n\\item 'Median Velocity'\n\\item 'RMS Velocity'\n\\item 'Energy'\n\\item 'Impulse Factor'\n\\item 'Velocity Derivative Mean'\n\\item 'Velocity Derivative Std'\n\\item 'Mean Velocity Around Arrival'\n\\item 'Max Velocity Around Arrival'\n\\item 'Max STA/LTA'\n\\item 'mq\\_type'\n\\end{enumerate*}\n",
            "text/plain": [
              " [1] \"Mean Velocity\"                \"Standard Deviation\"          \n",
              " [3] \"Max Velocity\"                 \"Min Velocity\"                \n",
              " [5] \"Range Velocity\"               \"Median Velocity\"             \n",
              " [7] \"RMS Velocity\"                 \"Energy\"                      \n",
              " [9] \"Impulse Factor\"               \"Velocity Derivative Mean\"    \n",
              "[11] \"Velocity Derivative Std\"      \"Mean Velocity Around Arrival\"\n",
              "[13] \"Max Velocity Around Arrival\"  \"Max STA/LTA\"                 \n",
              "[15] \"mq_type\"                     "
            ]
          },
          "metadata": {}
        }
      ]
    },
    {
      "cell_type": "code",
      "source": [
        "colnames(df)\n",
        "colnames(df) <- gsub(\" \", \"_\", colnames(df))\n",
        "colnames(df) <- gsub(\"/\", \"_\", colnames(df))\n",
        "colnames(df)"
      ],
      "metadata": {
        "colab": {
          "base_uri": "https://localhost:8080/",
          "height": 138
        },
        "id": "DL6AEwMqIM_y",
        "outputId": "f9f02dae-5203-4b41-fa8c-37a3c0ce31b6"
      },
      "execution_count": 11,
      "outputs": [
        {
          "output_type": "display_data",
          "data": {
            "text/html": [
              "<style>\n",
              ".list-inline {list-style: none; margin:0; padding: 0}\n",
              ".list-inline>li {display: inline-block}\n",
              ".list-inline>li:not(:last-child)::after {content: \"\\00b7\"; padding: 0 .5ex}\n",
              "</style>\n",
              "<ol class=list-inline><li>'Mean Velocity'</li><li>'Standard Deviation'</li><li>'Max Velocity'</li><li>'Min Velocity'</li><li>'Range Velocity'</li><li>'Median Velocity'</li><li>'RMS Velocity'</li><li>'Energy'</li><li>'Impulse Factor'</li><li>'Velocity Derivative Mean'</li><li>'Velocity Derivative Std'</li><li>'Mean Velocity Around Arrival'</li><li>'Max Velocity Around Arrival'</li><li>'Max STA/LTA'</li><li>'mq_type'</li></ol>\n"
            ],
            "text/markdown": "1. 'Mean Velocity'\n2. 'Standard Deviation'\n3. 'Max Velocity'\n4. 'Min Velocity'\n5. 'Range Velocity'\n6. 'Median Velocity'\n7. 'RMS Velocity'\n8. 'Energy'\n9. 'Impulse Factor'\n10. 'Velocity Derivative Mean'\n11. 'Velocity Derivative Std'\n12. 'Mean Velocity Around Arrival'\n13. 'Max Velocity Around Arrival'\n14. 'Max STA/LTA'\n15. 'mq_type'\n\n\n",
            "text/latex": "\\begin{enumerate*}\n\\item 'Mean Velocity'\n\\item 'Standard Deviation'\n\\item 'Max Velocity'\n\\item 'Min Velocity'\n\\item 'Range Velocity'\n\\item 'Median Velocity'\n\\item 'RMS Velocity'\n\\item 'Energy'\n\\item 'Impulse Factor'\n\\item 'Velocity Derivative Mean'\n\\item 'Velocity Derivative Std'\n\\item 'Mean Velocity Around Arrival'\n\\item 'Max Velocity Around Arrival'\n\\item 'Max STA/LTA'\n\\item 'mq\\_type'\n\\end{enumerate*}\n",
            "text/plain": [
              " [1] \"Mean Velocity\"                \"Standard Deviation\"          \n",
              " [3] \"Max Velocity\"                 \"Min Velocity\"                \n",
              " [5] \"Range Velocity\"               \"Median Velocity\"             \n",
              " [7] \"RMS Velocity\"                 \"Energy\"                      \n",
              " [9] \"Impulse Factor\"               \"Velocity Derivative Mean\"    \n",
              "[11] \"Velocity Derivative Std\"      \"Mean Velocity Around Arrival\"\n",
              "[13] \"Max Velocity Around Arrival\"  \"Max STA/LTA\"                 \n",
              "[15] \"mq_type\"                     "
            ]
          },
          "metadata": {}
        },
        {
          "output_type": "display_data",
          "data": {
            "text/html": [
              "<style>\n",
              ".list-inline {list-style: none; margin:0; padding: 0}\n",
              ".list-inline>li {display: inline-block}\n",
              ".list-inline>li:not(:last-child)::after {content: \"\\00b7\"; padding: 0 .5ex}\n",
              "</style>\n",
              "<ol class=list-inline><li>'Mean_Velocity'</li><li>'Standard_Deviation'</li><li>'Max_Velocity'</li><li>'Min_Velocity'</li><li>'Range_Velocity'</li><li>'Median_Velocity'</li><li>'RMS_Velocity'</li><li>'Energy'</li><li>'Impulse_Factor'</li><li>'Velocity_Derivative_Mean'</li><li>'Velocity_Derivative_Std'</li><li>'Mean_Velocity_Around_Arrival'</li><li>'Max_Velocity_Around_Arrival'</li><li>'Max_STA_LTA'</li><li>'mq_type'</li></ol>\n"
            ],
            "text/markdown": "1. 'Mean_Velocity'\n2. 'Standard_Deviation'\n3. 'Max_Velocity'\n4. 'Min_Velocity'\n5. 'Range_Velocity'\n6. 'Median_Velocity'\n7. 'RMS_Velocity'\n8. 'Energy'\n9. 'Impulse_Factor'\n10. 'Velocity_Derivative_Mean'\n11. 'Velocity_Derivative_Std'\n12. 'Mean_Velocity_Around_Arrival'\n13. 'Max_Velocity_Around_Arrival'\n14. 'Max_STA_LTA'\n15. 'mq_type'\n\n\n",
            "text/latex": "\\begin{enumerate*}\n\\item 'Mean\\_Velocity'\n\\item 'Standard\\_Deviation'\n\\item 'Max\\_Velocity'\n\\item 'Min\\_Velocity'\n\\item 'Range\\_Velocity'\n\\item 'Median\\_Velocity'\n\\item 'RMS\\_Velocity'\n\\item 'Energy'\n\\item 'Impulse\\_Factor'\n\\item 'Velocity\\_Derivative\\_Mean'\n\\item 'Velocity\\_Derivative\\_Std'\n\\item 'Mean\\_Velocity\\_Around\\_Arrival'\n\\item 'Max\\_Velocity\\_Around\\_Arrival'\n\\item 'Max\\_STA\\_LTA'\n\\item 'mq\\_type'\n\\end{enumerate*}\n",
            "text/plain": [
              " [1] \"Mean_Velocity\"                \"Standard_Deviation\"          \n",
              " [3] \"Max_Velocity\"                 \"Min_Velocity\"                \n",
              " [5] \"Range_Velocity\"               \"Median_Velocity\"             \n",
              " [7] \"RMS_Velocity\"                 \"Energy\"                      \n",
              " [9] \"Impulse_Factor\"               \"Velocity_Derivative_Mean\"    \n",
              "[11] \"Velocity_Derivative_Std\"      \"Mean_Velocity_Around_Arrival\"\n",
              "[13] \"Max_Velocity_Around_Arrival\"  \"Max_STA_LTA\"                 \n",
              "[15] \"mq_type\"                     "
            ]
          },
          "metadata": {}
        }
      ]
    },
    {
      "cell_type": "code",
      "source": [
        "# Install if not already installed\n",
        "install.packages(\"randomForest\")\n",
        "library(randomForest)"
      ],
      "metadata": {
        "colab": {
          "base_uri": "https://localhost:8080/"
        },
        "id": "gsGXw797JjaO",
        "outputId": "c67786e4-70c2-49c5-9387-2762b5707e2d"
      },
      "execution_count": 12,
      "outputs": [
        {
          "output_type": "stream",
          "name": "stderr",
          "text": [
            "Installing package into ‘/usr/local/lib/R/site-library’\n",
            "(as ‘lib’ is unspecified)\n",
            "\n",
            "randomForest 4.7-1.2\n",
            "\n",
            "Type rfNews() to see new features/changes/bug fixes.\n",
            "\n",
            "\n",
            "Attaching package: ‘randomForest’\n",
            "\n",
            "\n",
            "The following object is masked from ‘package:ggplot2’:\n",
            "\n",
            "    margin\n",
            "\n",
            "\n"
          ]
        }
      ]
    },
    {
      "cell_type": "code",
      "source": [
        "# Prepare data\n",
        "df$mq_type <- as.factor(df$mq_type)  # Make sure target is a factor\n",
        "df <- df[, !sapply(df, function(x) length(unique(x)) == 1)]  # Remove constant columns"
      ],
      "metadata": {
        "id": "697qoPxYJplk"
      },
      "execution_count": 13,
      "outputs": []
    },
    {
      "cell_type": "code",
      "source": [
        "# Split into train and test\n",
        "set.seed(123)\n",
        "train_idx <- sample(1:nrow(df), 0.8 * nrow(df))\n",
        "train_data <- df[train_idx, ]\n",
        "test_data <- df[-train_idx, ]"
      ],
      "metadata": {
        "id": "-C3X9gvWJ1Lh"
      },
      "execution_count": 14,
      "outputs": []
    },
    {
      "cell_type": "code",
      "source": [
        "# Train a simple Random Forest\n",
        "model_rf <- randomForest(mq_type ~ ., data = train_data, ntree = 100)"
      ],
      "metadata": {
        "id": "JbBgW9kWJ4Nv"
      },
      "execution_count": 15,
      "outputs": []
    },
    {
      "cell_type": "code",
      "source": [
        "# Predict\n",
        "pred <- predict(model_rf, newdata = test_data)"
      ],
      "metadata": {
        "id": "YldAmnYCJ6yK"
      },
      "execution_count": 16,
      "outputs": []
    },
    {
      "cell_type": "code",
      "source": [
        "# Confusion matrix\n",
        "confusion <- table(Predicted = pred, Actual = test_data$mq_type)\n",
        "print(confusion)"
      ],
      "metadata": {
        "colab": {
          "base_uri": "https://localhost:8080/"
        },
        "id": "2BNA9Y04J9n3",
        "outputId": "125c20e0-e76d-4ff0-a1e3-caf2becdafe8"
      },
      "execution_count": 17,
      "outputs": [
        {
          "output_type": "stream",
          "name": "stdout",
          "text": [
            "            Actual\n",
            "Predicted    deep_mq impact_mq shallow_mq\n",
            "  deep_mq          0         0          0\n",
            "  impact_mq        1        14          0\n",
            "  shallow_mq       0         0          0\n"
          ]
        }
      ]
    },
    {
      "cell_type": "code",
      "source": [
        "\n",
        "# Accuracy\n",
        "accuracy <- sum(diag(confusion)) / sum(confusion)\n",
        "cat(\"Accuracy:\", accuracy, \"\\n\")"
      ],
      "metadata": {
        "colab": {
          "base_uri": "https://localhost:8080/"
        },
        "id": "iobjvHYYKBQK",
        "outputId": "c7ff1861-d476-495e-ddc6-e6f95e525a55"
      },
      "execution_count": 18,
      "outputs": [
        {
          "output_type": "stream",
          "name": "stdout",
          "text": [
            "Accuracy: 0.9333333 \n"
          ]
        }
      ]
    },
    {
      "cell_type": "code",
      "source": [
        "# Check class distribution in your training data\n",
        "table(train_data$mq_type)"
      ],
      "metadata": {
        "id": "n1ayLH6vKEvB",
        "colab": {
          "base_uri": "https://localhost:8080/",
          "height": 72
        },
        "outputId": "7b916dad-87bf-412d-f049-2e3947ae9bfc"
      },
      "execution_count": 20,
      "outputs": [
        {
          "output_type": "display_data",
          "data": {
            "text/plain": [
              "\n",
              "   deep_mq  impact_mq shallow_mq \n",
              "         8         49          2 "
            ]
          },
          "metadata": {}
        }
      ]
    },
    {
      "cell_type": "code",
      "source": [
        "install.packages(\"smotefamily\")\n",
        "library(smotefamily)"
      ],
      "metadata": {
        "colab": {
          "base_uri": "https://localhost:8080/"
        },
        "id": "D6M8BY0LLzGs",
        "outputId": "f902a0dc-bf60-41c7-b62a-a0125c546227"
      },
      "execution_count": 25,
      "outputs": [
        {
          "output_type": "stream",
          "name": "stderr",
          "text": [
            "Installing package into ‘/usr/local/lib/R/site-library’\n",
            "(as ‘lib’ is unspecified)\n",
            "\n",
            "also installing the dependencies ‘FNN’, ‘dbscan’, ‘igraph’\n",
            "\n",
            "\n"
          ]
        }
      ]
    },
    {
      "cell_type": "code",
      "source": [
        "# Prepare data: Features (X) and Target (y)\n",
        "X <- train_data[, -which(names(train_data) == \"mq_type\")]\n",
        "y <- as.numeric(train_data$mq_type)  # Convert factor to numeric (1,2,3)"
      ],
      "metadata": {
        "id": "dYsCFP8qMM5Z"
      },
      "execution_count": 26,
      "outputs": []
    },
    {
      "cell_type": "code",
      "source": [
        "# 1. Check class sizes first\n",
        "class_counts <- table(train_data$mq_type)\n",
        "print(class_counts)"
      ],
      "metadata": {
        "colab": {
          "base_uri": "https://localhost:8080/"
        },
        "id": "0sA8YNNUOXw6",
        "outputId": "04cebec8-a228-4b5a-8ee4-511327fc1d3d"
      },
      "execution_count": 31,
      "outputs": [
        {
          "output_type": "stream",
          "name": "stdout",
          "text": [
            "\n",
            "   deep_mq  impact_mq shallow_mq \n",
            "         8         49          2 \n"
          ]
        }
      ]
    },
    {
      "cell_type": "code",
      "source": [
        "# 2. Find the smallest class size\n",
        "min_class_size <- min(class_counts)\n",
        "\n",
        "# 3. Set K adaptively (must be < smallest class size)\n",
        "safe_K <- min(5, min_class_size - 1)  # Ensures K < min_class_size\n"
      ],
      "metadata": {
        "id": "_RfOGfDbNwB_"
      },
      "execution_count": 32,
      "outputs": []
    },
    {
      "cell_type": "code",
      "source": [
        "# 5. Apply SMOTE with safe parameters\n",
        "smote_result <- SMOTE(\n",
        "  X = X,\n",
        "  target = y,\n",
        "  K = safe_K,           # Dynamic K based on smallest class\n",
        "  dup_size = 1          # How many synthetic samples per real sample\n",
        ")\n"
      ],
      "metadata": {
        "id": "S8vSZoGoN4rI"
      },
      "execution_count": 33,
      "outputs": []
    },
    {
      "cell_type": "code",
      "source": [
        "# 6. Convert back to original format\n",
        "smote_train <- data.frame(smote_result$data)\n",
        "smote_train$mq_type <- factor(\n",
        "  smote_train$class,\n",
        "  levels = 1:length(levels(train_data$mq_type)),\n",
        "  labels = levels(train_data$mq_type)\n",
        ")\n",
        "smote_train$class <- NULL\n",
        "\n",
        "# Verify new distribution\n",
        "table(smote_train$mq_type)"
      ],
      "metadata": {
        "colab": {
          "base_uri": "https://localhost:8080/",
          "height": 72
        },
        "id": "5KGkcrhtOfY6",
        "outputId": "d48bb554-9d1d-431c-d88e-d90a520b81bd"
      },
      "execution_count": 34,
      "outputs": [
        {
          "output_type": "display_data",
          "data": {
            "text/plain": [
              "\n",
              "   deep_mq  impact_mq shallow_mq \n",
              "         8         49          4 "
            ]
          },
          "metadata": {}
        }
      ]
    },
    {
      "cell_type": "code",
      "source": [
        "# 2. Train Random Forest on SMOTE-balanced data\n",
        "set.seed(123)\n",
        "model_rf <- randomForest(\n",
        "  mq_type ~ .,\n",
        "  data = smote_train,\n",
        "  ntree = 100,\n",
        "  importance = TRUE  # To check variable importance later\n",
        ")"
      ],
      "metadata": {
        "id": "vA8bUM63Oneb"
      },
      "execution_count": 35,
      "outputs": []
    },
    {
      "cell_type": "code",
      "source": [
        "# 3. Predict on original (unmodified) test set\n",
        "pred <- predict(model_rf, newdata = test_data)\n"
      ],
      "metadata": {
        "id": "sU0t7AXtPQXf"
      },
      "execution_count": 36,
      "outputs": []
    },
    {
      "cell_type": "code",
      "source": [
        "# 4. Evaluate performance\n",
        "conf_matrix <- table(Predicted = pred, Actual = test_data$mq_type)\n",
        "cat(\"\\nConfusion Matrix:\\n\")\n",
        "print(conf_matrix)"
      ],
      "metadata": {
        "colab": {
          "base_uri": "https://localhost:8080/"
        },
        "id": "wgs-9_0SPS1-",
        "outputId": "aad83ba1-45aa-4dc8-824b-20bda5814767"
      },
      "execution_count": 37,
      "outputs": [
        {
          "output_type": "stream",
          "name": "stdout",
          "text": [
            "\n",
            "Confusion Matrix:\n",
            "            Actual\n",
            "Predicted    deep_mq impact_mq shallow_mq\n",
            "  deep_mq          0         0          0\n",
            "  impact_mq        1        14          0\n",
            "  shallow_mq       0         0          0\n"
          ]
        }
      ]
    },
    {
      "cell_type": "code",
      "source": [
        "metrics <- confusionMatrix(pred, test_data$mq_type)\n",
        "cat(\"\\nOverall Accuracy:\", metrics$overall[\"Accuracy\"], \"\\n\")\n",
        "cat(\"\\nClass-wise Metrics:\\n\")\n",
        "print(metrics$byClass)\n"
      ],
      "metadata": {
        "colab": {
          "base_uri": "https://localhost:8080/"
        },
        "id": "Eel6aTpEPVWP",
        "outputId": "69dfebfd-af34-46f5-f4a9-be07ee0403c4"
      },
      "execution_count": 38,
      "outputs": [
        {
          "output_type": "stream",
          "name": "stdout",
          "text": [
            "\n",
            "Overall Accuracy: 0.9333333 \n",
            "\n",
            "Class-wise Metrics:\n",
            "                  Sensitivity Specificity Pos Pred Value Neg Pred Value\n",
            "Class: deep_mq              0           1            NaN      0.9333333\n",
            "Class: impact_mq            1           0      0.9333333            NaN\n",
            "Class: shallow_mq          NA           1             NA             NA\n",
            "                  Precision Recall        F1 Prevalence Detection Rate\n",
            "Class: deep_mq           NA      0        NA 0.06666667      0.0000000\n",
            "Class: impact_mq  0.9333333      1 0.9655172 0.93333333      0.9333333\n",
            "Class: shallow_mq        NA     NA        NA 0.00000000      0.0000000\n",
            "                  Detection Prevalence Balanced Accuracy\n",
            "Class: deep_mq                       0               0.5\n",
            "Class: impact_mq                     1               0.5\n",
            "Class: shallow_mq                    0                NA\n"
          ]
        }
      ]
    },
    {
      "cell_type": "code",
      "source": [],
      "metadata": {
        "id": "xw0PQiouPZuQ"
      },
      "execution_count": null,
      "outputs": []
    }
  ]
}