{
  "nbformat": 4,
  "nbformat_minor": 0,
  "metadata": {
    "colab": {
      "provenance": [],
      "gpuType": "T4"
    },
    "kernelspec": {
      "name": "ir",
      "display_name": "R"
    },
    "language_info": {
      "name": "R"
    },
    "accelerator": "GPU"
  },
  "cells": [
    {
      "cell_type": "code",
      "source": [
        "install.packages(\"readxl\")"
      ],
      "metadata": {
        "colab": {
          "base_uri": "https://localhost:8080/"
        },
        "id": "KDfpegpfz6xK",
        "outputId": "5e632bb6-e473-4e99-aabd-cdbb8d74d675"
      },
      "execution_count": 1,
      "outputs": [
        {
          "output_type": "stream",
          "name": "stderr",
          "text": [
            "Installing package into ‘/usr/local/lib/R/site-library’\n",
            "(as ‘lib’ is unspecified)\n",
            "\n"
          ]
        }
      ]
    },
    {
      "cell_type": "code",
      "source": [
        "library(\"readxl\")\n",
        "df<-read_excel('final.xlsx')"
      ],
      "metadata": {
        "id": "1w2N2Zxt0a0P"
      },
      "execution_count": 2,
      "outputs": []
    },
    {
      "cell_type": "code",
      "source": [
        "df<-df[2:17]\n",
        "print(df)"
      ],
      "metadata": {
        "colab": {
          "base_uri": "https://localhost:8080/"
        },
        "id": "tcJNcWIAAYyZ",
        "outputId": "a4a5a7fd-7fcd-4e14-8a35-cbf52ee604fd"
      },
      "execution_count": 3,
      "outputs": [
        {
          "output_type": "stream",
          "name": "stdout",
          "text": [
            "\u001b[90m# A tibble: 74 × 16\u001b[39m\n",
            "   `Mean Velocity` `Standard Deviation` `Max Velocity` `Min Velocity`\n",
            "             \u001b[3m\u001b[90m<dbl>\u001b[39m\u001b[23m                \u001b[3m\u001b[90m<dbl>\u001b[39m\u001b[23m          \u001b[3m\u001b[90m<dbl>\u001b[39m\u001b[23m          \u001b[3m\u001b[90m<dbl>\u001b[39m\u001b[23m\n",
            "\u001b[90m 1\u001b[39m       -\u001b[31m8\u001b[39m\u001b[31m.\u001b[39m\u001b[31m44\u001b[39m\u001b[90me\u001b[39m\u001b[31m-13\u001b[39m             3.53\u001b[90me\u001b[39m\u001b[31m-10\u001b[39m  0.000\u001b[4m0\u001b[24m\u001b[4m0\u001b[24m\u001b[4m0\u001b[24m007\u001b[4m8\u001b[24m\u001b[4m7\u001b[24m       -\u001b[31m8\u001b[39m\u001b[31m.\u001b[39m\u001b[31m19\u001b[39m\u001b[90me\u001b[39m\u001b[31m-9\u001b[39m\n",
            "\u001b[90m 2\u001b[39m       -\u001b[31m1\u001b[39m\u001b[31m.\u001b[39m\u001b[31m94\u001b[39m\u001b[90me\u001b[39m\u001b[31m-12\u001b[39m             3.87\u001b[90me\u001b[39m\u001b[31m-10\u001b[39m  0.000\u001b[4m0\u001b[24m\u001b[4m0\u001b[24m\u001b[4m0\u001b[24m004\u001b[4m7\u001b[24m\u001b[4m1\u001b[24m       -\u001b[31m4\u001b[39m\u001b[31m.\u001b[39m\u001b[31m60\u001b[39m\u001b[90me\u001b[39m\u001b[31m-9\u001b[39m\n",
            "\u001b[90m 3\u001b[39m       -\u001b[31m2\u001b[39m\u001b[31m.\u001b[39m\u001b[31m98\u001b[39m\u001b[90me\u001b[39m\u001b[31m-13\u001b[39m             3.22\u001b[90me\u001b[39m\u001b[31m-10\u001b[39m  0.000\u001b[4m0\u001b[24m\u001b[4m0\u001b[24m\u001b[4m0\u001b[24m005\u001b[4m9\u001b[24m\u001b[4m7\u001b[24m       -\u001b[31m6\u001b[39m\u001b[31m.\u001b[39m\u001b[31m14\u001b[39m\u001b[90me\u001b[39m\u001b[31m-9\u001b[39m\n",
            "\u001b[90m 4\u001b[39m       -\u001b[31m1\u001b[39m\u001b[31m.\u001b[39m\u001b[31m55\u001b[39m\u001b[90me\u001b[39m\u001b[31m-13\u001b[39m             3.38\u001b[90me\u001b[39m\u001b[31m-10\u001b[39m  0.000\u001b[4m0\u001b[24m\u001b[4m0\u001b[24m\u001b[4m0\u001b[24m006\u001b[4m8\u001b[24m\u001b[4m5\u001b[24m       -\u001b[31m6\u001b[39m\u001b[31m.\u001b[39m\u001b[31m16\u001b[39m\u001b[90me\u001b[39m\u001b[31m-9\u001b[39m\n",
            "\u001b[90m 5\u001b[39m       -\u001b[31m6\u001b[39m\u001b[31m.\u001b[39m\u001b[31m92\u001b[39m\u001b[90me\u001b[39m\u001b[31m-13\u001b[39m             3.01\u001b[90me\u001b[39m\u001b[31m-10\u001b[39m  0.000\u001b[4m0\u001b[24m\u001b[4m0\u001b[24m\u001b[4m0\u001b[24m005\u001b[4m4\u001b[24m\u001b[4m9\u001b[24m       -\u001b[31m4\u001b[39m\u001b[31m.\u001b[39m\u001b[31m48\u001b[39m\u001b[90me\u001b[39m\u001b[31m-9\u001b[39m\n",
            "\u001b[90m 6\u001b[39m       -\u001b[31m7\u001b[39m\u001b[31m.\u001b[39m\u001b[31m79\u001b[39m\u001b[90me\u001b[39m\u001b[31m-13\u001b[39m             5.56\u001b[90me\u001b[39m\u001b[31m-10\u001b[39m  0.000\u001b[4m0\u001b[24m\u001b[4m0\u001b[24m\u001b[4m0\u001b[24m019\u001b[4m3\u001b[24m        -\u001b[31m1\u001b[39m\u001b[31m.\u001b[39m\u001b[31m91\u001b[39m\u001b[90me\u001b[39m\u001b[31m-8\u001b[39m\n",
            "\u001b[90m 7\u001b[39m        1.24\u001b[90me\u001b[39m\u001b[31m-13\u001b[39m             1.60\u001b[90me\u001b[39m\u001b[31m- 9\u001b[39m  0.000\u001b[4m0\u001b[24m\u001b[4m0\u001b[24m\u001b[4m0\u001b[24m048\u001b[4m1\u001b[24m        -\u001b[31m5\u001b[39m\u001b[31m.\u001b[39m\u001b[31m28\u001b[39m\u001b[90me\u001b[39m\u001b[31m-8\u001b[39m\n",
            "\u001b[90m 8\u001b[39m       -\u001b[31m5\u001b[39m\u001b[31m.\u001b[39m\u001b[31m62\u001b[39m\u001b[90me\u001b[39m\u001b[31m-13\u001b[39m             7.32\u001b[90me\u001b[39m\u001b[31m-10\u001b[39m  0.000\u001b[4m0\u001b[24m\u001b[4m0\u001b[24m\u001b[4m0\u001b[24m019\u001b[4m6\u001b[24m        -\u001b[31m2\u001b[39m\u001b[31m.\u001b[39m\u001b[31m0\u001b[39m\u001b[31m2\u001b[39m\u001b[90me\u001b[39m\u001b[31m-8\u001b[39m\n",
            "\u001b[90m 9\u001b[39m       -\u001b[31m5\u001b[39m\u001b[31m.\u001b[39m\u001b[31m62\u001b[39m\u001b[90me\u001b[39m\u001b[31m-13\u001b[39m             7.32\u001b[90me\u001b[39m\u001b[31m-10\u001b[39m  0.000\u001b[4m0\u001b[24m\u001b[4m0\u001b[24m\u001b[4m0\u001b[24m019\u001b[4m6\u001b[24m        -\u001b[31m2\u001b[39m\u001b[31m.\u001b[39m\u001b[31m0\u001b[39m\u001b[31m2\u001b[39m\u001b[90me\u001b[39m\u001b[31m-8\u001b[39m\n",
            "\u001b[90m10\u001b[39m       -\u001b[31m4\u001b[39m\u001b[31m.\u001b[39m\u001b[31m88\u001b[39m\u001b[90me\u001b[39m\u001b[31m-13\u001b[39m             2.77\u001b[90me\u001b[39m\u001b[31m-10\u001b[39m  0.000\u001b[4m0\u001b[24m\u001b[4m0\u001b[24m\u001b[4m0\u001b[24m004\u001b[4m5\u001b[24m\u001b[4m0\u001b[24m       -\u001b[31m4\u001b[39m\u001b[31m.\u001b[39m\u001b[31m71\u001b[39m\u001b[90me\u001b[39m\u001b[31m-9\u001b[39m\n",
            "\u001b[90m# ℹ 64 more rows\u001b[39m\n",
            "\u001b[90m# ℹ 12 more variables: `Range Velocity` <dbl>, `Median Velocity` <dbl>,\u001b[39m\n",
            "\u001b[90m#   `RMS Velocity` <dbl>, Energy <dbl>, `Impulse Factor` <dbl>,\u001b[39m\n",
            "\u001b[90m#   `Velocity Derivative Mean` <dbl>, `Velocity Derivative Std` <dbl>,\u001b[39m\n",
            "\u001b[90m#   `Mean Velocity Around Arrival` <dbl>, `Max Velocity Around Arrival` <dbl>,\u001b[39m\n",
            "\u001b[90m#   `Arrival Time` <dbl>, `Max STA/LTA` <dbl>, mq_type <chr>\u001b[39m\n"
          ]
        }
      ]
    },
    {
      "cell_type": "code",
      "source": [
        "df[[16]] <- as.factor(df[[16]])\n",
        "print(df[16])\n",
        "str(df[16])"
      ],
      "metadata": {
        "colab": {
          "base_uri": "https://localhost:8080/"
        },
        "id": "1FHBhAzPAazx",
        "outputId": "0e57c65b-dffd-4735-f017-c51eac269a11"
      },
      "execution_count": 4,
      "outputs": [
        {
          "output_type": "stream",
          "name": "stdout",
          "text": [
            "\u001b[90m# A tibble: 74 × 1\u001b[39m\n",
            "   mq_type  \n",
            "   \u001b[3m\u001b[90m<fct>\u001b[39m\u001b[23m    \n",
            "\u001b[90m 1\u001b[39m impact_mq\n",
            "\u001b[90m 2\u001b[39m impact_mq\n",
            "\u001b[90m 3\u001b[39m impact_mq\n",
            "\u001b[90m 4\u001b[39m impact_mq\n",
            "\u001b[90m 5\u001b[39m deep_mq  \n",
            "\u001b[90m 6\u001b[39m impact_mq\n",
            "\u001b[90m 7\u001b[39m impact_mq\n",
            "\u001b[90m 8\u001b[39m impact_mq\n",
            "\u001b[90m 9\u001b[39m deep_mq  \n",
            "\u001b[90m10\u001b[39m impact_mq\n",
            "\u001b[90m# ℹ 64 more rows\u001b[39m\n",
            "tibble [74 × 1] (S3: tbl_df/tbl/data.frame)\n",
            " $ mq_type: Factor w/ 3 levels \"deep_mq\",\"impact_mq\",..: 2 2 2 2 1 2 2 2 1 2 ...\n"
          ]
        }
      ]
    },
    {
      "cell_type": "code",
      "source": [
        "install.packages('caTools')"
      ],
      "metadata": {
        "colab": {
          "base_uri": "https://localhost:8080/"
        },
        "id": "EcEygaXSAfmo",
        "outputId": "490cc661-4495-4e03-8b0e-e7738b1c23b8"
      },
      "execution_count": 5,
      "outputs": [
        {
          "output_type": "stream",
          "name": "stderr",
          "text": [
            "Installing package into ‘/usr/local/lib/R/site-library’\n",
            "(as ‘lib’ is unspecified)\n",
            "\n"
          ]
        }
      ]
    },
    {
      "cell_type": "code",
      "source": [
        "library(caTools)\n",
        "set.seed(123)\n",
        "split<-sample.split(df$mq_type, SplitRatio = 0.9)\n",
        "training_set<-subset(df, split==TRUE)\n",
        "test_set<-subset(df, split==FALSE)"
      ],
      "metadata": {
        "id": "b7oh9k2HAiAZ"
      },
      "execution_count": 6,
      "outputs": []
    },
    {
      "cell_type": "code",
      "source": [
        "numeric_cols <- sapply(training_set, is.numeric)\n",
        "training_set[numeric_cols] <- scale(training_set[numeric_cols])\n",
        "train_means <- attr(scale(training_set[numeric_cols]), \"scaled:center\")\n",
        "train_sds <- attr(scale(training_set[numeric_cols]), \"scaled:scale\")\n",
        "test_set[numeric_cols] <- scale(test_set[numeric_cols], center = train_means, scale = train_sds)"
      ],
      "metadata": {
        "id": "6wFCM3siAkqM"
      },
      "execution_count": 7,
      "outputs": []
    },
    {
      "cell_type": "code",
      "source": [
        "install.packages('h2o')"
      ],
      "metadata": {
        "colab": {
          "base_uri": "https://localhost:8080/"
        },
        "id": "ofa3AlEXAmG0",
        "outputId": "f0e71646-ce30-48fe-88f9-919b90632afc"
      },
      "execution_count": 8,
      "outputs": [
        {
          "output_type": "stream",
          "name": "stderr",
          "text": [
            "Installing package into ‘/usr/local/lib/R/site-library’\n",
            "(as ‘lib’ is unspecified)\n",
            "\n"
          ]
        }
      ]
    },
    {
      "cell_type": "code",
      "source": [
        "library(h2o)"
      ],
      "metadata": {
        "colab": {
          "base_uri": "https://localhost:8080/"
        },
        "id": "SRDQOep_AoKS",
        "outputId": "3dfcaf5d-6e20-42ad-ac2d-790dca360a8f"
      },
      "execution_count": 9,
      "outputs": [
        {
          "output_type": "stream",
          "name": "stderr",
          "text": [
            "\n",
            "----------------------------------------------------------------------\n",
            "\n",
            "Your next step is to start H2O:\n",
            "    > h2o.init()\n",
            "\n",
            "For H2O package documentation, ask for help:\n",
            "    > ??h2o\n",
            "\n",
            "After starting H2O, you can use the Web UI at http://localhost:54321\n",
            "For more information visit https://docs.h2o.ai\n",
            "\n",
            "----------------------------------------------------------------------\n",
            "\n",
            "\n",
            "\n",
            "Attaching package: ‘h2o’\n",
            "\n",
            "\n",
            "The following objects are masked from ‘package:stats’:\n",
            "\n",
            "    cor, sd, var\n",
            "\n",
            "\n",
            "The following objects are masked from ‘package:base’:\n",
            "\n",
            "    &&, %*%, %in%, ||, apply, as.factor, as.numeric, colnames,\n",
            "    colnames<-, ifelse, is.character, is.factor, is.numeric, log,\n",
            "    log10, log1p, log2, round, signif, trunc\n",
            "\n",
            "\n"
          ]
        }
      ]
    },
    {
      "cell_type": "code",
      "source": [
        "h2o.init(nthreads = -1)"
      ],
      "metadata": {
        "colab": {
          "base_uri": "https://localhost:8080/"
        },
        "id": "vXYCoknQA1d7",
        "outputId": "864e15ed-97dc-4ffa-d081-cb66e5412530"
      },
      "execution_count": 10,
      "outputs": [
        {
          "output_type": "stream",
          "name": "stdout",
          "text": [
            " Connection successful!\n",
            "\n",
            "R is connected to the H2O cluster: \n",
            "    H2O cluster uptime:         32 minutes 47 seconds \n",
            "    H2O cluster timezone:       Etc/UTC \n",
            "    H2O data parsing timezone:  UTC \n",
            "    H2O cluster version:        3.44.0.3 \n",
            "    H2O cluster version age:    1 year, 3 months and 29 days \n",
            "    H2O cluster name:           H2O_started_from_R_root_ozp357 \n",
            "    H2O cluster total nodes:    1 \n",
            "    H2O cluster total memory:   3.17 GB \n",
            "    H2O cluster total cores:    2 \n",
            "    H2O cluster allowed cores:  2 \n",
            "    H2O cluster healthy:        TRUE \n",
            "    H2O Connection ip:          localhost \n",
            "    H2O Connection port:        54321 \n",
            "    H2O Connection proxy:       NA \n",
            "    H2O Internal Security:      FALSE \n",
            "    R Version:                  R version 4.5.0 (2025-04-11) \n"
          ]
        },
        {
          "output_type": "stream",
          "name": "stderr",
          "text": [
            "Warning message in h2o.clusterInfo():\n",
            "“\n",
            "Your H2O cluster version is (1 year, 3 months and 29 days) old. There may be a newer version available.\n",
            "Please download and install the latest version from: https://h2o-release.s3.amazonaws.com/h2o/latest_stable.html”\n"
          ]
        },
        {
          "output_type": "stream",
          "name": "stdout",
          "text": [
            "\n"
          ]
        }
      ]
    },
    {
      "cell_type": "code",
      "source": [
        "classifier = h2o.deeplearning(y= 'mq_type',\n",
        "training_frame = as.h2o(training_set), activation = 'Rectifier',\n",
        "hidden = c(10,10), # Taking 10 since it's avg of i/p and o/p\n",
        "epoch = 100, train_samples_per_iteration = -2 ) # h2o model auto tunes"
      ],
      "metadata": {
        "colab": {
          "base_uri": "https://localhost:8080/"
        },
        "id": "pzArcxqvA3-9",
        "outputId": "865d6b4d-17c7-4aae-e80f-2e687f3ca7f6"
      },
      "execution_count": 11,
      "outputs": [
        {
          "output_type": "stream",
          "name": "stdout",
          "text": [
            "  |======================================================================| 100%\n"
          ]
        },
        {
          "output_type": "stream",
          "name": "stderr",
          "text": [
            "Warning message in .h2o.processResponseWarnings(res):\n",
            "“Dropping bad and constant columns: [Arrival Time].\n",
            "”\n"
          ]
        },
        {
          "output_type": "stream",
          "name": "stdout",
          "text": [
            "  |======================================================================| 100%\n"
          ]
        }
      ]
    },
    {
      "cell_type": "code",
      "source": [
        "#prob_predict<-h2o.predict(classifier, newdata = as.h2o(test_set[-1]))\n",
        "prob_predict <- h2o.predict(classifier, newdata = as.h2o(test_set))"
      ],
      "metadata": {
        "colab": {
          "base_uri": "https://localhost:8080/"
        },
        "id": "kwaU5gd0EVkt",
        "outputId": "a0727788-f1cb-4d7c-acb3-1e888fb1b6f4"
      },
      "execution_count": 12,
      "outputs": [
        {
          "output_type": "stream",
          "name": "stdout",
          "text": [
            "  |======================================================================| 100%\n",
            "  |======================================================================| 100%\n"
          ]
        }
      ]
    },
    {
      "cell_type": "code",
      "source": [
        "prob_predict <- h2o.predict(classifier, newdata = as.h2o(test_set))"
      ],
      "metadata": {
        "colab": {
          "base_uri": "https://localhost:8080/"
        },
        "id": "ESHx6uxUGbEu",
        "outputId": "d3c863a8-86c0-4a0e-f210-ab47eae239fb"
      },
      "execution_count": 13,
      "outputs": [
        {
          "output_type": "stream",
          "name": "stdout",
          "text": [
            "  |======================================================================| 100%\n",
            "  |======================================================================| 100%\n"
          ]
        }
      ]
    },
    {
      "cell_type": "code",
      "source": [
        "#y_pred<-as.vector(y_pred)\n",
        "y_pred <- as.vector(prob_predict$predict)"
      ],
      "metadata": {
        "id": "SueUvDilFALE"
      },
      "execution_count": 14,
      "outputs": []
    },
    {
      "cell_type": "code",
      "source": [
        "#y_pred<-(prob_predict>0.5)"
      ],
      "metadata": {
        "id": "7NKZG1kxEgPa"
      },
      "execution_count": 15,
      "outputs": []
    },
    {
      "cell_type": "code",
      "source": [
        "print(y_pred)"
      ],
      "metadata": {
        "colab": {
          "base_uri": "https://localhost:8080/"
        },
        "id": "IPIIvtkFFDgH",
        "outputId": "aa6b9607-4e0c-486a-c510-fcc4f3fbdc67"
      },
      "execution_count": 16,
      "outputs": [
        {
          "output_type": "stream",
          "name": "stdout",
          "text": [
            "[1] \"impact_mq\" \"impact_mq\" \"impact_mq\" \"impact_mq\" \"impact_mq\" \"impact_mq\"\n",
            "[7] \"impact_mq\"\n"
          ]
        }
      ]
    },
    {
      "cell_type": "code",
      "source": [
        "cm <- table(test_set$mq_type, y_pred)\n",
        "print(cm)"
      ],
      "metadata": {
        "colab": {
          "base_uri": "https://localhost:8080/"
        },
        "id": "i8ec1COXFGM-",
        "outputId": "7c6d8a23-d6bc-4469-ec85-4874a44a9fdc"
      },
      "execution_count": 17,
      "outputs": [
        {
          "output_type": "stream",
          "name": "stdout",
          "text": [
            "            y_pred\n",
            "             impact_mq\n",
            "  deep_mq            1\n",
            "  impact_mq          6\n",
            "  shallow_mq         0\n"
          ]
        }
      ]
    },
    {
      "cell_type": "code",
      "source": [
        "correct_predictions <- sum(diag(cm))\n",
        "total_predictions <- sum(cm)\n",
        "accuracy <- correct_predictions / total_predictions\n",
        "\n",
        "print(paste(\"Accuracy:\", round(accuracy * 100, 2), \"%\"))"
      ],
      "metadata": {
        "colab": {
          "base_uri": "https://localhost:8080/"
        },
        "id": "RV7unFrZFMs7",
        "outputId": "3f47be29-e858-4a29-8662-f1bbf71db6cf"
      },
      "execution_count": 18,
      "outputs": [
        {
          "output_type": "stream",
          "name": "stdout",
          "text": [
            "[1] \"Accuracy: 14.29 %\"\n"
          ]
        }
      ]
    },
    {
      "cell_type": "code",
      "source": [
        "classifier = h2o.deeplearning(y= 'mq_type',\n",
        "training_frame = as.h2o(training_set), activation = 'Tanh',\n",
        "hidden = c(10,10), # Taking 10 since it's avg of i/p and o/p\n",
        "epoch = 100, train_samples_per_iteration = -2 ) # h2o model auto tunes"
      ],
      "metadata": {
        "colab": {
          "base_uri": "https://localhost:8080/"
        },
        "id": "Ymg_4FGLHOSG",
        "outputId": "49a3bb47-2d51-4899-bdf8-0ca224aca9e7"
      },
      "execution_count": 19,
      "outputs": [
        {
          "output_type": "stream",
          "name": "stdout",
          "text": [
            "  |======================================================================| 100%\n"
          ]
        },
        {
          "output_type": "stream",
          "name": "stderr",
          "text": [
            "Warning message in .h2o.processResponseWarnings(res):\n",
            "“Dropping bad and constant columns: [Arrival Time].\n",
            "”\n"
          ]
        },
        {
          "output_type": "stream",
          "name": "stdout",
          "text": [
            "  |======================================================================| 100%\n"
          ]
        }
      ]
    },
    {
      "cell_type": "code",
      "source": [
        "prob_predict <- h2o.predict(classifier, newdata = as.h2o(test_set))"
      ],
      "metadata": {
        "colab": {
          "base_uri": "https://localhost:8080/"
        },
        "id": "IpPDojAcHXX9",
        "outputId": "c26b7fdd-c193-4070-8688-2fadcc03dc5a"
      },
      "execution_count": 20,
      "outputs": [
        {
          "output_type": "stream",
          "name": "stdout",
          "text": [
            "  |======================================================================| 100%\n",
            "  |======================================================================| 100%\n"
          ]
        }
      ]
    },
    {
      "cell_type": "code",
      "source": [
        "prob_predict <- h2o.predict(classifier, newdata = as.h2o(test_set))"
      ],
      "metadata": {
        "colab": {
          "base_uri": "https://localhost:8080/"
        },
        "id": "ZWs4QJhAHU_A",
        "outputId": "eaf10981-0340-4dce-d594-6447934f2913"
      },
      "execution_count": 21,
      "outputs": [
        {
          "output_type": "stream",
          "name": "stdout",
          "text": [
            "  |======================================================================| 100%\n",
            "  |======================================================================| 100%\n"
          ]
        }
      ]
    },
    {
      "cell_type": "code",
      "source": [
        "y_pred <- as.vector(prob_predict$predict)"
      ],
      "metadata": {
        "id": "6yOS0_5-HZa8"
      },
      "execution_count": 22,
      "outputs": []
    },
    {
      "cell_type": "code",
      "source": [
        "print(y_pred)"
      ],
      "metadata": {
        "colab": {
          "base_uri": "https://localhost:8080/"
        },
        "id": "kTkeQRtsHa81",
        "outputId": "94ad3b3b-b3ab-4fec-d89a-f907fdd94301"
      },
      "execution_count": 23,
      "outputs": [
        {
          "output_type": "stream",
          "name": "stdout",
          "text": [
            "[1] \"impact_mq\" \"impact_mq\" \"impact_mq\" \"impact_mq\" \"impact_mq\" \"impact_mq\"\n",
            "[7] \"impact_mq\"\n"
          ]
        }
      ]
    },
    {
      "cell_type": "code",
      "source": [
        "cm <- table(test_set$mq_type, y_pred)\n",
        "print(cm)"
      ],
      "metadata": {
        "colab": {
          "base_uri": "https://localhost:8080/"
        },
        "id": "WXO4pTK2Hdj3",
        "outputId": "fb39f075-8509-4daf-f67f-6cba01d1ee96"
      },
      "execution_count": 24,
      "outputs": [
        {
          "output_type": "stream",
          "name": "stdout",
          "text": [
            "            y_pred\n",
            "             impact_mq\n",
            "  deep_mq            1\n",
            "  impact_mq          6\n",
            "  shallow_mq         0\n"
          ]
        }
      ]
    },
    {
      "cell_type": "code",
      "source": [
        "correct_predictions <- sum(diag(cm))\n",
        "total_predictions <- sum(cm)\n",
        "accuracy <- correct_predictions / total_predictions\n",
        "\n",
        "print(paste(\"Accuracy:\", round(accuracy * 100, 2), \"%\"))"
      ],
      "metadata": {
        "colab": {
          "base_uri": "https://localhost:8080/"
        },
        "id": "tCBIJhosHd1l",
        "outputId": "e6a71e54-689a-486e-e0dc-fd1268b754f6"
      },
      "execution_count": 25,
      "outputs": [
        {
          "output_type": "stream",
          "name": "stdout",
          "text": [
            "[1] \"Accuracy: 14.29 %\"\n"
          ]
        }
      ]
    },
    {
      "cell_type": "code",
      "source": [],
      "metadata": {
        "id": "9lS9yQIYH-aj"
      },
      "execution_count": 26,
      "outputs": []
    }
  ]
}