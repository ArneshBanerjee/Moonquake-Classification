{
  "nbformat": 4,
  "nbformat_minor": 0,
  "metadata": {
    "colab": {
      "provenance": []
    },
    "kernelspec": {
      "name": "ir",
      "display_name": "R"
    },
    "language_info": {
      "name": "R"
    }
  },
  "cells": [
    {
      "cell_type": "code",
      "execution_count": 1,
      "metadata": {
        "id": "pNBSbXI_9EaQ"
      },
      "outputs": [],
      "source": [
        "system(\"sudo apt install python3-venv python3-pip python3-dev\")"
      ]
    },
    {
      "cell_type": "code",
      "source": [
        "# Install and load required packages\n",
        "install.packages(c(\"keras\", \"tensorflow\", \"ggplot2\", \"caret\"))\n",
        "library(keras)\n",
        "library(tensorflow)\n",
        "library(ggplot2)\n",
        "library(caret)\n",
        "library(readxl)\n",
        "# Install TensorFlow (run once)\n",
        "install_tensorflow()"
      ],
      "metadata": {
        "colab": {
          "base_uri": "https://localhost:8080/"
        },
        "id": "GSAqMWAT9Juv",
        "outputId": "c083ba52-71be-4b29-b67f-1cfbfb1836b5"
      },
      "execution_count": 5,
      "outputs": [
        {
          "output_type": "stream",
          "name": "stderr",
          "text": [
            "Installing packages into ‘/usr/local/lib/R/site-library’\n",
            "(as ‘lib’ is unspecified)\n",
            "\n"
          ]
        },
        {
          "output_type": "stream",
          "name": "stdout",
          "text": [
            "Virtual environment 'r-tensorflow' removed.\n",
            "Using Python: /usr/bin/python3.10\n",
            "Creating virtual environment 'r-tensorflow' ... \n"
          ]
        },
        {
          "output_type": "stream",
          "name": "stderr",
          "text": [
            "+ /usr/bin/python3.10 -m venv /root/.virtualenvs/r-tensorflow\n",
            "\n"
          ]
        },
        {
          "output_type": "stream",
          "name": "stdout",
          "text": [
            "Done!\n",
            "Installing packages: pip, wheel, setuptools\n"
          ]
        },
        {
          "output_type": "stream",
          "name": "stderr",
          "text": [
            "+ /root/.virtualenvs/r-tensorflow/bin/python -m pip install --upgrade pip wheel setuptools\n",
            "\n"
          ]
        },
        {
          "output_type": "stream",
          "name": "stdout",
          "text": [
            "Virtual environment 'r-tensorflow' successfully created.\n",
            "Using virtual environment 'r-tensorflow' ...\n"
          ]
        },
        {
          "output_type": "stream",
          "name": "stderr",
          "text": [
            "+ /root/.virtualenvs/r-tensorflow/bin/python -m pip install --upgrade --no-user 'tensorflow==2.16.*'\n",
            "\n"
          ]
        },
        {
          "output_type": "stream",
          "name": "stdout",
          "text": [
            "\n",
            "Installation complete.\n",
            "\n"
          ]
        }
      ]
    },
    {
      "cell_type": "code",
      "source": [
        "# Load your data\n",
        "df <- read_excel('final.xlsx')\n",
        "df <- df[2:17]  # Select relevant columns"
      ],
      "metadata": {
        "id": "WA53UFvH9ibm"
      },
      "execution_count": 6,
      "outputs": []
    },
    {
      "cell_type": "code",
      "source": [
        "\n",
        "# Convert target to factor and numeric\n",
        "df$mq_type <- as.factor(df$mq_type)\n",
        "y <- as.numeric(df$mq_type) - 1  # Convert to 0,1,2 for deep_mq, impact_mq, shallow_mq"
      ],
      "metadata": {
        "id": "RcsHW8C4_3Q2"
      },
      "execution_count": 7,
      "outputs": []
    },
    {
      "cell_type": "code",
      "source": [
        "# Remove constant columns (like Arrival Time)\n",
        "constant_cols <- sapply(df, function(x) length(unique(x)) == 1)\n",
        "df <- df[, !constant_cols]"
      ],
      "metadata": {
        "id": "Phud6fkLBMTO"
      },
      "execution_count": 8,
      "outputs": []
    },
    {
      "cell_type": "code",
      "source": [
        "# Split data into training and test sets\n",
        "set.seed(123)\n",
        "train_index <- createDataPartition(y, p = 0.8, list = FALSE)\n",
        "train_data <- df[train_index, ]\n",
        "test_data <- df[-train_index, ]"
      ],
      "metadata": {
        "id": "3WOQupXhBPIc"
      },
      "execution_count": 9,
      "outputs": []
    },
    {
      "cell_type": "code",
      "source": [
        "# Scale numeric features (excluding the target variable)\n",
        "preprocess_params <- preProcess(train_data[, -which(names(train_data) == \"mq_type\")],\n",
        "                              method = c(\"center\", \"scale\"))\n",
        "train_scaled <- predict(preprocess_params, train_data[, -which(names(train_data) == \"mq_type\")])\n",
        "test_scaled <- predict(preprocess_params, test_data[, -which(names(test_data) == \"mq_type\")])\n"
      ],
      "metadata": {
        "id": "wGt5Kpq_BTF_"
      },
      "execution_count": 10,
      "outputs": []
    },
    {
      "cell_type": "code",
      "source": [
        "# Convert to matrices for keras\n",
        "x_train <- as.matrix(train_scaled)\n",
        "x_test <- as.matrix(test_scaled)\n"
      ],
      "metadata": {
        "id": "7PnhLm_pBVte"
      },
      "execution_count": 12,
      "outputs": []
    },
    {
      "cell_type": "code",
      "source": [
        "library(caret)\n",
        "dummy <- dummyVars(\" ~ .\", data = data.frame(mq_type = train_data$mq_type))\n",
        "y_train <- predict(dummy, newdata = data.frame(mq_type = train_data$mq_type))\n",
        "y_test <- predict(dummy, newdata = data.frame(mq_type = test_data$mq_type))\n"
      ],
      "metadata": {
        "id": "TBU05LckBZVm"
      },
      "execution_count": 14,
      "outputs": []
    },
    {
      "cell_type": "code",
      "source": [
        "colnames(df)"
      ],
      "metadata": {
        "colab": {
          "base_uri": "https://localhost:8080/",
          "height": 69
        },
        "id": "JzCHYCGiEYy5",
        "outputId": "25da0851-998b-4dcc-c36a-1db051018f05"
      },
      "execution_count": 21,
      "outputs": [
        {
          "output_type": "display_data",
          "data": {
            "text/html": [
              "<style>\n",
              ".list-inline {list-style: none; margin:0; padding: 0}\n",
              ".list-inline>li {display: inline-block}\n",
              ".list-inline>li:not(:last-child)::after {content: \"\\00b7\"; padding: 0 .5ex}\n",
              "</style>\n",
              "<ol class=list-inline><li>'Mean Velocity'</li><li>'Standard Deviation'</li><li>'Max Velocity'</li><li>'Min Velocity'</li><li>'Range Velocity'</li><li>'Median Velocity'</li><li>'RMS Velocity'</li><li>'Energy'</li><li>'Impulse Factor'</li><li>'Velocity Derivative Mean'</li><li>'Velocity Derivative Std'</li><li>'Mean Velocity Around Arrival'</li><li>'Max Velocity Around Arrival'</li><li>'Max STA/LTA'</li><li>'mq_type'</li></ol>\n"
            ],
            "text/markdown": "1. 'Mean Velocity'\n2. 'Standard Deviation'\n3. 'Max Velocity'\n4. 'Min Velocity'\n5. 'Range Velocity'\n6. 'Median Velocity'\n7. 'RMS Velocity'\n8. 'Energy'\n9. 'Impulse Factor'\n10. 'Velocity Derivative Mean'\n11. 'Velocity Derivative Std'\n12. 'Mean Velocity Around Arrival'\n13. 'Max Velocity Around Arrival'\n14. 'Max STA/LTA'\n15. 'mq_type'\n\n\n",
            "text/latex": "\\begin{enumerate*}\n\\item 'Mean Velocity'\n\\item 'Standard Deviation'\n\\item 'Max Velocity'\n\\item 'Min Velocity'\n\\item 'Range Velocity'\n\\item 'Median Velocity'\n\\item 'RMS Velocity'\n\\item 'Energy'\n\\item 'Impulse Factor'\n\\item 'Velocity Derivative Mean'\n\\item 'Velocity Derivative Std'\n\\item 'Mean Velocity Around Arrival'\n\\item 'Max Velocity Around Arrival'\n\\item 'Max STA/LTA'\n\\item 'mq\\_type'\n\\end{enumerate*}\n",
            "text/plain": [
              " [1] \"Mean Velocity\"                \"Standard Deviation\"          \n",
              " [3] \"Max Velocity\"                 \"Min Velocity\"                \n",
              " [5] \"Range Velocity\"               \"Median Velocity\"             \n",
              " [7] \"RMS Velocity\"                 \"Energy\"                      \n",
              " [9] \"Impulse Factor\"               \"Velocity Derivative Mean\"    \n",
              "[11] \"Velocity Derivative Std\"      \"Mean Velocity Around Arrival\"\n",
              "[13] \"Max Velocity Around Arrival\"  \"Max STA/LTA\"                 \n",
              "[15] \"mq_type\"                     "
            ]
          },
          "metadata": {}
        }
      ]
    },
    {
      "cell_type": "code",
      "source": [
        "colnames(df)\n",
        "colnames(df) <- gsub(\" \", \"_\", colnames(df))\n",
        "colnames(df) <- gsub(\"/\", \"_\", colnames(df))\n",
        "colnames(df)"
      ],
      "metadata": {
        "colab": {
          "base_uri": "https://localhost:8080/",
          "height": 138
        },
        "id": "DL6AEwMqIM_y",
        "outputId": "eeafcb4a-6ad9-4ba8-be8c-cabfbbcff87d"
      },
      "execution_count": 23,
      "outputs": [
        {
          "output_type": "display_data",
          "data": {
            "text/html": [
              "<style>\n",
              ".list-inline {list-style: none; margin:0; padding: 0}\n",
              ".list-inline>li {display: inline-block}\n",
              ".list-inline>li:not(:last-child)::after {content: \"\\00b7\"; padding: 0 .5ex}\n",
              "</style>\n",
              "<ol class=list-inline><li>'Mean Velocity'</li><li>'Standard Deviation'</li><li>'Max Velocity'</li><li>'Min Velocity'</li><li>'Range Velocity'</li><li>'Median Velocity'</li><li>'RMS Velocity'</li><li>'Energy'</li><li>'Impulse Factor'</li><li>'Velocity Derivative Mean'</li><li>'Velocity Derivative Std'</li><li>'Mean Velocity Around Arrival'</li><li>'Max Velocity Around Arrival'</li><li>'Max STA/LTA'</li><li>'mq_type'</li></ol>\n"
            ],
            "text/markdown": "1. 'Mean Velocity'\n2. 'Standard Deviation'\n3. 'Max Velocity'\n4. 'Min Velocity'\n5. 'Range Velocity'\n6. 'Median Velocity'\n7. 'RMS Velocity'\n8. 'Energy'\n9. 'Impulse Factor'\n10. 'Velocity Derivative Mean'\n11. 'Velocity Derivative Std'\n12. 'Mean Velocity Around Arrival'\n13. 'Max Velocity Around Arrival'\n14. 'Max STA/LTA'\n15. 'mq_type'\n\n\n",
            "text/latex": "\\begin{enumerate*}\n\\item 'Mean Velocity'\n\\item 'Standard Deviation'\n\\item 'Max Velocity'\n\\item 'Min Velocity'\n\\item 'Range Velocity'\n\\item 'Median Velocity'\n\\item 'RMS Velocity'\n\\item 'Energy'\n\\item 'Impulse Factor'\n\\item 'Velocity Derivative Mean'\n\\item 'Velocity Derivative Std'\n\\item 'Mean Velocity Around Arrival'\n\\item 'Max Velocity Around Arrival'\n\\item 'Max STA/LTA'\n\\item 'mq\\_type'\n\\end{enumerate*}\n",
            "text/plain": [
              " [1] \"Mean Velocity\"                \"Standard Deviation\"          \n",
              " [3] \"Max Velocity\"                 \"Min Velocity\"                \n",
              " [5] \"Range Velocity\"               \"Median Velocity\"             \n",
              " [7] \"RMS Velocity\"                 \"Energy\"                      \n",
              " [9] \"Impulse Factor\"               \"Velocity Derivative Mean\"    \n",
              "[11] \"Velocity Derivative Std\"      \"Mean Velocity Around Arrival\"\n",
              "[13] \"Max Velocity Around Arrival\"  \"Max STA/LTA\"                 \n",
              "[15] \"mq_type\"                     "
            ]
          },
          "metadata": {}
        },
        {
          "output_type": "display_data",
          "data": {
            "text/html": [
              "<style>\n",
              ".list-inline {list-style: none; margin:0; padding: 0}\n",
              ".list-inline>li {display: inline-block}\n",
              ".list-inline>li:not(:last-child)::after {content: \"\\00b7\"; padding: 0 .5ex}\n",
              "</style>\n",
              "<ol class=list-inline><li>'Mean_Velocity'</li><li>'Standard_Deviation'</li><li>'Max_Velocity'</li><li>'Min_Velocity'</li><li>'Range_Velocity'</li><li>'Median_Velocity'</li><li>'RMS_Velocity'</li><li>'Energy'</li><li>'Impulse_Factor'</li><li>'Velocity_Derivative_Mean'</li><li>'Velocity_Derivative_Std'</li><li>'Mean_Velocity_Around_Arrival'</li><li>'Max_Velocity_Around_Arrival'</li><li>'Max_STA_LTA'</li><li>'mq_type'</li></ol>\n"
            ],
            "text/markdown": "1. 'Mean_Velocity'\n2. 'Standard_Deviation'\n3. 'Max_Velocity'\n4. 'Min_Velocity'\n5. 'Range_Velocity'\n6. 'Median_Velocity'\n7. 'RMS_Velocity'\n8. 'Energy'\n9. 'Impulse_Factor'\n10. 'Velocity_Derivative_Mean'\n11. 'Velocity_Derivative_Std'\n12. 'Mean_Velocity_Around_Arrival'\n13. 'Max_Velocity_Around_Arrival'\n14. 'Max_STA_LTA'\n15. 'mq_type'\n\n\n",
            "text/latex": "\\begin{enumerate*}\n\\item 'Mean\\_Velocity'\n\\item 'Standard\\_Deviation'\n\\item 'Max\\_Velocity'\n\\item 'Min\\_Velocity'\n\\item 'Range\\_Velocity'\n\\item 'Median\\_Velocity'\n\\item 'RMS\\_Velocity'\n\\item 'Energy'\n\\item 'Impulse\\_Factor'\n\\item 'Velocity\\_Derivative\\_Mean'\n\\item 'Velocity\\_Derivative\\_Std'\n\\item 'Mean\\_Velocity\\_Around\\_Arrival'\n\\item 'Max\\_Velocity\\_Around\\_Arrival'\n\\item 'Max\\_STA\\_LTA'\n\\item 'mq\\_type'\n\\end{enumerate*}\n",
            "text/plain": [
              " [1] \"Mean_Velocity\"                \"Standard_Deviation\"          \n",
              " [3] \"Max_Velocity\"                 \"Min_Velocity\"                \n",
              " [5] \"Range_Velocity\"               \"Median_Velocity\"             \n",
              " [7] \"RMS_Velocity\"                 \"Energy\"                      \n",
              " [9] \"Impulse_Factor\"               \"Velocity_Derivative_Mean\"    \n",
              "[11] \"Velocity_Derivative_Std\"      \"Mean_Velocity_Around_Arrival\"\n",
              "[13] \"Max_Velocity_Around_Arrival\"  \"Max_STA_LTA\"                 \n",
              "[15] \"mq_type\"                     "
            ]
          },
          "metadata": {}
        }
      ]
    },
    {
      "cell_type": "code",
      "source": [
        "# Install if not already installed\n",
        "install.packages(\"randomForest\")\n",
        "library(randomForest)"
      ],
      "metadata": {
        "colab": {
          "base_uri": "https://localhost:8080/"
        },
        "id": "gsGXw797JjaO",
        "outputId": "b77760ed-f413-415c-ad2f-0c96eae249ef"
      },
      "execution_count": 25,
      "outputs": [
        {
          "output_type": "stream",
          "name": "stderr",
          "text": [
            "Installing package into ‘/usr/local/lib/R/site-library’\n",
            "(as ‘lib’ is unspecified)\n",
            "\n"
          ]
        }
      ]
    },
    {
      "cell_type": "code",
      "source": [
        "# Prepare data\n",
        "df$mq_type <- as.factor(df$mq_type)  # Make sure target is a factor\n",
        "df <- df[, !sapply(df, function(x) length(unique(x)) == 1)]  # Remove constant columns"
      ],
      "metadata": {
        "id": "697qoPxYJplk"
      },
      "execution_count": 26,
      "outputs": []
    },
    {
      "cell_type": "code",
      "source": [
        "# Split into train and test\n",
        "set.seed(123)\n",
        "train_idx <- sample(1:nrow(df), 0.8 * nrow(df))\n",
        "train_data <- df[train_idx, ]\n",
        "test_data <- df[-train_idx, ]"
      ],
      "metadata": {
        "id": "-C3X9gvWJ1Lh"
      },
      "execution_count": 27,
      "outputs": []
    },
    {
      "cell_type": "code",
      "source": [
        "# Train a simple Random Forest\n",
        "model_rf <- randomForest(mq_type ~ ., data = train_data, ntree = 100)"
      ],
      "metadata": {
        "id": "JbBgW9kWJ4Nv"
      },
      "execution_count": 28,
      "outputs": []
    },
    {
      "cell_type": "code",
      "source": [
        "# Predict\n",
        "pred <- predict(model_rf, newdata = test_data)"
      ],
      "metadata": {
        "id": "YldAmnYCJ6yK"
      },
      "execution_count": 29,
      "outputs": []
    },
    {
      "cell_type": "code",
      "source": [
        "# Confusion matrix\n",
        "confusion <- table(Predicted = pred, Actual = test_data$mq_type)\n",
        "print(confusion)"
      ],
      "metadata": {
        "colab": {
          "base_uri": "https://localhost:8080/"
        },
        "id": "2BNA9Y04J9n3",
        "outputId": "c8ab2b4d-a988-402a-e5c9-514917728baf"
      },
      "execution_count": 30,
      "outputs": [
        {
          "output_type": "stream",
          "name": "stdout",
          "text": [
            "            Actual\n",
            "Predicted    deep_mq impact_mq shallow_mq\n",
            "  deep_mq          0         0          0\n",
            "  impact_mq        1        14          0\n",
            "  shallow_mq       0         0          0\n"
          ]
        }
      ]
    },
    {
      "cell_type": "code",
      "source": [
        "\n",
        "# Accuracy\n",
        "accuracy <- sum(diag(confusion)) / sum(confusion)\n",
        "cat(\"Accuracy:\", accuracy, \"\\n\")"
      ],
      "metadata": {
        "colab": {
          "base_uri": "https://localhost:8080/"
        },
        "id": "iobjvHYYKBQK",
        "outputId": "8ec586a0-0cdb-4cf9-ce6c-c178ef50d504"
      },
      "execution_count": 31,
      "outputs": [
        {
          "output_type": "stream",
          "name": "stdout",
          "text": [
            "Accuracy: 0.9333333 \n"
          ]
        }
      ]
    },
    {
      "cell_type": "code",
      "source": [],
      "metadata": {
        "id": "n1ayLH6vKEvB"
      },
      "execution_count": null,
      "outputs": []
    }
  ]
}
